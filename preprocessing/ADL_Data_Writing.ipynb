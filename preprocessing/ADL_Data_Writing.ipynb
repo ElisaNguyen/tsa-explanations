{
 "cells": [
  {
   "cell_type": "code",
   "execution_count": 1,
   "metadata": {},
   "outputs": [],
   "source": [
    "import pandas as pd\n",
    "import numpy as np\n",
    "import os\n",
    "from ADLInputEncoding import read_file, downsample, encode_sensor, build_input, write_labels"
   ]
  },
  {
   "cell_type": "code",
   "execution_count": 2,
   "metadata": {},
   "outputs": [],
   "source": [
    "os.chdir('../data/raw/UCI ADL Binary Dataset')\n",
    "df_labels_A = read_file('OrdonezA_ADLs.txt')\n",
    "df_labels_B = read_file('OrdonezB_ADLs.txt')\n",
    "df_data_A = read_file('OrdonezA_Sensors.txt')\n",
    "df_data_B = read_file('OrdonezB_Sensors.txt')\n",
    "# comment: A and B do not have the same sensor list\n",
    "sensors = list(set().union(df_data_A['Location'].unique(), df_data_B['Location'].unique()))"
   ]
  },
  {
   "cell_type": "code",
   "execution_count": 3,
   "metadata": {},
   "outputs": [],
   "source": [
    "st_A = {}\n",
    "st_B = {}\n",
    "for sensor in sensors:\n",
    "    st_A[sensor] = downsample(encode_sensor(sensor, df_data_A, df_labels_A), 0)\n",
    "    st_B[sensor] = downsample(encode_sensor(sensor, df_data_B, df_labels_B), 0)\n",
    "\n",
    "timestamps_A = range(int((df_data_A['End'][408] - df_data_A['Start'][0]).to_numpy() / np.timedelta64(1, 's')) + 1)\n",
    "abs_start_B = min(df_data_B['Start'][0], df_labels_B['Start'][0])\n",
    "abs_end_B = max(max(df_data_B['End']), max(df_labels_B['End']))\n",
    "timestamps_B = range(int((abs_end_B - abs_start_B).to_numpy() / np.timedelta64(1, 's')) + 1)\n",
    "\n",
    "os.chdir('../..')\n",
    "\n",
    "df_labelled_A = pd.DataFrame(build_input(st_A, sensors), columns=sensors)\n",
    "df_labelled_A['t'] = timestamps_A\n",
    "df_labelled_A['Label'] = write_labels(df_data_A, df_labels_A, timestamps_A)\n",
    "df_labelled_A.to_csv('OrdonezA.csv', index=False)\n",
    "\n",
    "df_labelled_B = pd.DataFrame(build_input(st_B, sensors), columns=sensors)\n",
    "df_labelled_B['t'] = timestamps_B\n",
    "df_labelled_B['Label'] = write_labels(df_data_B, df_labels_B, timestamps_B)\n",
    "df_labelled_B.to_csv('OrdonezB.csv', index=False)"
   ]
  },
  {
   "cell_type": "code",
   "execution_count": null,
   "metadata": {},
   "outputs": [],
   "source": []
  }
 ],
 "metadata": {
  "kernelspec": {
   "display_name": "Python 3",
   "language": "python",
   "name": "python3"
  },
  "language_info": {
   "codemirror_mode": {
    "name": "ipython",
    "version": 3
   },
   "file_extension": ".py",
   "mimetype": "text/x-python",
   "name": "python",
   "nbconvert_exporter": "python",
   "pygments_lexer": "ipython3",
   "version": "3.7.4"
  }
 },
 "nbformat": 4,
 "nbformat_minor": 4
}