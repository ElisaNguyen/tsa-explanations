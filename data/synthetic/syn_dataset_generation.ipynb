{
 "cells": [
  {
   "cell_type": "code",
   "execution_count": 2,
   "id": "2afbc0a4",
   "metadata": {},
   "outputs": [],
   "source": [
    "import sys\n",
    "sys.path.insert(1, '../../models')\n",
    "from CoreSNN import save_obj, load_obj\n",
    "sys.path.insert(1, '../')\n",
    "from DatasetBuilding import generate_dataset\n",
    "sys.path.insert(1, '../../experiments')\n",
    "from ExplanationEvaluation import sample_n_testset\n",
    "import pandas as pd\n",
    "import numpy as np"
   ]
  },
  {
   "cell_type": "code",
   "execution_count": 2,
   "id": "cf8b92c3",
   "metadata": {},
   "outputs": [],
   "source": [
    "# size of the synthetic dataset: 900*1000, 70-30 split between test and train\n",
    "syn_ds_size = 900*1000"
   ]
  },
  {
   "cell_type": "code",
   "execution_count": 3,
   "id": "e9c556e2",
   "metadata": {},
   "outputs": [],
   "source": [
    "np.random.seed(123)\n",
    "X_syn = np.array([[0,0]])\n",
    "\n",
    "while len(X_syn) < syn_ds_size:\n",
    "    random_duration = np.random.randint(600)\n",
    "    next_activity = np.random.randint(0,2, (1,2)).repeat(random_duration, axis=0)\n",
    "    X_syn = np.append(X_syn, next_activity, 0)"
   ]
  },
  {
   "cell_type": "code",
   "execution_count": 4,
   "id": "1140a062",
   "metadata": {},
   "outputs": [],
   "source": [
    "df_data_syn = pd.DataFrame(X_syn[:syn_ds_size], columns=['x1', 'x2'])"
   ]
  },
  {
   "cell_type": "code",
   "execution_count": 5,
   "id": "b41e0d20",
   "metadata": {},
   "outputs": [],
   "source": [
    "# add constantly spiking bias\n",
    "df_data_syn.insert(loc=0, column='x0', value = np.ones(syn_ds_size, dtype=np.int8))"
   ]
  },
  {
   "cell_type": "code",
   "execution_count": 6,
   "id": "bd8a579d",
   "metadata": {},
   "outputs": [],
   "source": [
    "def assign_label(x1, x2):\n",
    "    \"\"\"\n",
    "    Class 0 if x1 on, x2 off\n",
    "    Class 1 if both on\n",
    "    Class 2 if x1 off, x2 on\n",
    "    Class 3 if both off\n",
    "    \"\"\"\n",
    "    if (x1, x2)==(0,1):\n",
    "        return 2\n",
    "    elif (x1, x2)== (0,0):\n",
    "        return 3\n",
    "    else:\n",
    "        return (x1*x2)"
   ]
  },
  {
   "cell_type": "code",
   "execution_count": 7,
   "id": "3585e407",
   "metadata": {},
   "outputs": [],
   "source": [
    "df_data_syn['Class'] = df_data_syn.apply(lambda x: assign_label(x[1], x[2]), axis=1)\n",
    "df_data_syn['set'] = ['train']*630000 + ['test']*270000"
   ]
  },
  {
   "cell_type": "code",
   "execution_count": 9,
   "id": "1f1c38d4",
   "metadata": {},
   "outputs": [],
   "source": [
    "df_data_syn.to_csv('syn_data.csv', index = False)\n",
    "np.random.seed(123)\n",
    "expl_testset = sample_n_testset(df_data_syn[df_data_syn['set']=='test']['Class'], 25)\n",
    "save_obj(expl_testset, 'expl_syn_testset.pkl')"
   ]
  },
  {
   "cell_type": "code",
   "execution_count": 11,
   "id": "8a1fd912",
   "metadata": {
    "pycharm": {
     "name": "#%%\n"
    }
   },
   "outputs": [
    {
     "name": "stderr",
     "output_type": "stream",
     "text": [
      "<ipython-input-10-8d3b261cedfd>:36: VisibleDeprecationWarning: Creating an ndarray from ragged nested sequences (which is a list-or-tuple of lists-or-tuples-or ndarrays with different lengths or shapes) is deprecated. If you meant to do this, you must specify 'dtype=object' when creating the ndarray.\n",
      "  data['times'] = np.array(data['times'])\n",
      "<ipython-input-10-8d3b261cedfd>:37: VisibleDeprecationWarning: Creating an ndarray from ragged nested sequences (which is a list-or-tuple of lists-or-tuples-or ndarrays with different lengths or shapes) is deprecated. If you meant to do this, you must specify 'dtype=object' when creating the ndarray.\n",
      "  data['units'] = np.array(data['units'])\n"
     ]
    }
   ],
   "source": [
    "# Generate the dataset for training the model\n",
    "\n",
    "X_train, y_train = generate_dataset(df_data_syn[df_data_syn['set']=='train'], 900)\n",
    "X_test, y_test = generate_dataset(df_data_syn[df_data_syn['set']=='test'], 900)\n",
    "\n",
    "X_train['times'] = X_train['times'][:-1]\n",
    "X_train['units'] = X_train['units'][:-1]\n",
    "X_test['times'] = X_test['times'][:-1]\n",
    "X_test['units'] = X_test['units'][:-1]\n",
    "y_train = y_train[:-1]\n",
    "y_test = y_test[:-1]\n",
    "\n",
    "dataset_syn = {'X_train': X_train,\n",
    "               'y_train': y_train,\n",
    "               'X_test': X_test,\n",
    "               'y_test': y_test}\n",
    "\n",
    "save_obj(dataset_syn, 'syn_data900.pkl')\n"
   ]
  },
  {
   "cell_type": "code",
   "execution_count": 16,
   "id": "c8e115be",
   "metadata": {
    "pycharm": {
     "name": "#%%\n"
    }
   },
   "outputs": [],
   "source": [
    "# Generate the dataset with \"long\" time series\n",
    "\n",
    "X_train, y_train = generate_dataset(df_data_syn[df_data_syn['set']=='train'], len(df_data_syn[df_data_syn['set']=='train']))\n",
    "X_test, y_test = generate_dataset(df_data_syn[df_data_syn['set']=='test'], len(df_data_syn[df_data_syn['set']=='test']))\n",
    "\n",
    "dataset_syn = {'X_train': X_train,\n",
    "               'y_train': y_train,\n",
    "               'X_test': X_test,\n",
    "               'y_test': y_test}\n",
    "\n",
    "save_obj(dataset_syn, 'syn_data.pkl')\n",
    "\n"
   ]
  }
 ],
 "metadata": {
  "kernelspec": {
   "display_name": "Python 3",
   "language": "python",
   "name": "python3"
  },
  "language_info": {
   "codemirror_mode": {
    "name": "ipython",
    "version": 3
   },
   "file_extension": ".py",
   "mimetype": "text/x-python",
   "name": "python",
   "nbconvert_exporter": "python",
   "pygments_lexer": "ipython3",
   "version": "3.8.8"
  }
 },
 "nbformat": 4,
 "nbformat_minor": 5
}