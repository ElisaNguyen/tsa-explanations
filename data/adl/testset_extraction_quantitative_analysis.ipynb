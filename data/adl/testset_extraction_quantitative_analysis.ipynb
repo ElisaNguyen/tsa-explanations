{
 "nbformat": 4,
 "nbformat_minor": 0,
 "metadata": {
  "colab": {
   "name": "QuantitativeEvaluation - Playground.ipynb",
   "provenance": [],
   "collapsed_sections": [
    "1QYTLta82ORK",
    "M3fjZIVfWYQS",
    "Ukrbg4qGJ5U9",
    "SuJxCw07kB5L",
    "IvkYHFYQ2nbX",
    "XibFejQD8fJU",
    "PFCAAmZ7-r5g"
   ],
   "authorship_tag": "ABX9TyMLy++t2ufKNtK+kkI7grXe"
  },
  "kernelspec": {
   "name": "python3",
   "display_name": "Python 3"
  },
  "language_info": {
   "name": "python"
  },
  "accelerator": "GPU"
 },
 "cells": [
  {
   "cell_type": "markdown",
   "source": [
    "# Import libraries, models, data"
   ],
   "metadata": {
    "collapsed": false
   }
  },
  {
   "cell_type": "code",
   "execution_count": null,
   "outputs": [],
   "source": [
    "import os\n",
    "import random\n",
    "import sys\n",
    "import numpy as np\n",
    "import pandas as pd\n",
    "from sklearn import metrics\n",
    "import torch\n",
    "import matplotlib.pyplot as plt\n",
    "from tqdm import tqdm\n",
    "\n",
    "random.seed(123)\n",
    "torch.manual_seed(123)\n",
    "np.random.seed(123)"
   ],
   "metadata": {
    "collapsed": false,
    "pycharm": {
     "name": "#%%\n"
    }
   }
  },
  {
   "cell_type": "code",
   "execution_count": null,
   "outputs": [],
   "source": [
    "dtype = torch.float\n",
    "\n",
    "# Check whether a GPU is available\n",
    "if torch.cuda.is_available():\n",
    "    device = torch.device(\"cuda\")     \n",
    "else:\n",
    "    device = torch.device(\"cpu\")\n"
   ],
   "metadata": {
    "collapsed": false,
    "pycharm": {
     "name": "#%%\n"
    }
   }
  },
  {
   "cell_type": "code",
   "execution_count": null,
   "outputs": [],
   "source": [
    "sys.path.insert(1, '../models')\n",
    "from CoreSNN import *\n",
    "sys.path.insert(1, '../experiments')\n",
    "from ExplanationCreation import *\n",
    "from ExplanationEvaluation import *"
   ],
   "metadata": {
    "collapsed": false,
    "pycharm": {
     "name": "#%%\n"
    }
   }
  },
  {
   "cell_type": "code",
   "execution_count": null,
   "outputs": [],
   "source": [
    "# Load data\n",
    "dataset = load_obj('dataset_max.pkl')"
   ],
   "metadata": {
    "collapsed": false,
    "pycharm": {
     "name": "#%%\n"
    }
   }
  },
  {
   "cell_type": "markdown",
   "source": [
    "# Getting the testset \n",
    "\n",
    "As balanced samples of the classes\n",
    "\n",
    "Getting N samples that each class is represented in"
   ],
   "metadata": {
    "collapsed": false
   }
  },
  {
   "cell_type": "code",
   "execution_count": null,
   "outputs": [],
   "source": [
    "# sampling 10 random samples per class\n",
    "def sample_n_testset(data,n):\n",
    "    \"\"\"\n",
    "    samples n timestamps of each class from data\n",
    "    \"\"\"\n",
    "    test_set_t = []\n",
    "    classes = np.unique(np.squeeze(data))\n",
    "    for c in classes:\n",
    "        c_timesteps = np.where(np.squeeze(data)==c)[0]\n",
    "        c_sample = np.random.choice(c_timesteps, n)\n",
    "        test_set_t.append(c_sample)\n",
    "    test_set_t = np.sort(np.ndarray.flatten(np.array(test_set_t)))\n",
    "    return test_set_t"
   ],
   "metadata": {
    "collapsed": false,
    "pycharm": {
     "name": "#%%\n"
    }
   }
  },
  {
   "cell_type": "code",
   "execution_count": null,
   "outputs": [],
   "source": [
    "# #RAN ONLY ONCE\n",
    "# A_testset_t = sample_n_testset(dataset['y_test_A'], 10)\n",
    "# B_testset_t = sample_n_testset(dataset['y_test_B'], 10)\n",
    "\n",
    "\n",
    "# save_obj(A_testset_t, 'quantitative_test_t_A.pkl')\n",
    "# save_obj(B_testset_t, 'quantitative_test_t_B.pkl')"
   ],
   "metadata": {
    "collapsed": false,
    "pycharm": {
     "name": "#%%\n"
    }
   }
  }
 ]
}