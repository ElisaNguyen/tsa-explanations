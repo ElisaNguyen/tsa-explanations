{
 "cells": [
  {
   "cell_type": "code",
   "execution_count": null,
   "metadata": {
    "id": "lh5DZKgeYYr3"
   },
   "outputs": [],
   "source": [
    "import os\n",
    "import random\n",
    "import warnings\n",
    "import numpy as np\n",
    "import pandas as pd\n",
    "import matplotlib.gridspec as gridspec\n",
    "import torch\n",
    "import matplotlib.pyplot as plt\n",
    "import sys\n",
    "from sklearn.metrics import balanced_accuracy_score\n",
    "\n",
    "random.seed(123)\n",
    "torch.manual_seed(123)\n",
    "np.random.seed(123)"
   ]
  },
  {
   "cell_type": "code",
   "execution_count": null,
   "metadata": {
    "colab": {
     "base_uri": "https://localhost:8080/"
    },
    "id": "R-_qz0hHYnmY",
    "outputId": "db04b5c3-d74e-49b2-f842-59d959be91d1"
   },
   "outputs": [],
   "source": [
    "sys.path.insert(1, '../../models/')\n",
    "from CoreSNN import *\n",
    "sys.path.insert(1, '../')\n",
    "from ExplanationCreation import *\n",
    "from ExplanationEvaluation import *"
   ]
  },
  {
   "cell_type": "code",
   "execution_count": null,
   "metadata": {},
   "outputs": [],
   "source": [
    "warnings.filterwarnings('ignore', 'y_pred contains classes not in y_true')"
   ]
  },
  {
   "cell_type": "code",
   "execution_count": null,
   "metadata": {
    "id": "gK20VFQVi_5w"
   },
   "outputs": [],
   "source": [
    "dataset = load_obj('../../data/synthetic/syn_data.pkl')\n",
    "testset_t = load_obj('../../data/synthetic/expl_syn_testset.pkl')\n",
    "y_true = dataset['y_test'][:, testset_t]"
   ]
  },
  {
   "cell_type": "markdown",
   "metadata": {
    "id": "6rsZZeKfYy3Q"
   },
   "source": [
    "# Output-completeness"
   ]
  },
  {
   "cell_type": "markdown",
   "metadata": {
    "id": "Qh1zvelpcLOp"
   },
   "source": [
    "## Read result data"
   ]
  },
  {
   "cell_type": "code",
   "execution_count": null,
   "metadata": {
    "colab": {
     "base_uri": "https://localhost:8080/",
     "height": 35
    },
    "id": "LoL3NJ-nDfX_",
    "outputId": "b191749a-7bb9-4c8b-b730-5114385cfb0d"
   },
   "outputs": [],
   "source": [
    "os.getcwd()"
   ]
  },
  {
   "cell_type": "code",
   "execution_count": null,
   "metadata": {
    "id": "QqFUZZqhBt1P"
   },
   "outputs": [],
   "source": [
    "epsilons = {'s': [], 'ns':[], 'sam':[]} # Fill tested epsilon values here\n",
    "\n",
    "def get_oc_scores(nb_layer, expl_type, epsilons):\n",
    "    epsilons = get_epsilons(dataset, expl_type)\n",
    "    _, y_pred_0, y_pred_p_0 = load_obj(os.getcwd() + '\\\\output_completeness\\\\{}\\\\{}L_oc_epsilon{}.pkl'.format(expl_type, nb_layer, epsilons[0]))\n",
    "    _, y_pred_5, y_pred_p_5 = load_obj(os.getcwd() + '\\\\output_completeness\\\\{}\\\\{}L_oc_epsilon{}.pkl'.format(expl_type, nb_layer, epsilons[1]))\n",
    "    _, y_pred_10, y_pred_p_10 = load_obj(os.getcwd() + '\\\\output_completeness\\\\{}\\\\{}L_oc_epsilon{}.pkl'.format(expl_type, nb_layer, epsilons[2]))\n",
    "    _, y_pred_15, y_pred_p_15 = load_obj(os.getcwd() + '\\\\output_completeness\\\\{}\\\\{}L_oc_epsilon{}.pkl'.format(expl_type, nb_layer, epsilons[3]))\n",
    "    _, y_pred_20, y_pred_p_20 = load_obj(os.getcwd() + '\\\\output_completeness\\{}\\\\{}L_oc_epsilon{}.pkl'.format(expl_type, nb_layer, epsilons[4]))\n",
    "    _, y_pred_25, y_pred_p_25 = load_obj(os.getcwd() + '\\\\output_completeness\\\\{}\\\\{}L_oc_epsilon{}.pkl'.format(expl_type, nb_layer, epsilons[5]))\n",
    "    _, y_pred_50, y_pred_p_50 = load_obj(os.getcwd() + '\\\\output_completeness\\\\{}\\\\{}L_oc_epsilon{}.pkl'.format(expl_type, nb_layer, epsilons[6]))\n",
    "    _, y_pred_75, y_pred_p_75 = load_obj(os.getcwd() + '\\\\output_completeness\\\\{}\\\\{}L_oc_epsilon{}.pkl'.format(expl_type, nb_layer, epsilons[7]))\n",
    "\n",
    "    scores = [balanced_accuracy_score(y_pred_0, y_pred_p_0),\n",
    "                  balanced_accuracy_score(y_pred_5, y_pred_p_5),\n",
    "                  balanced_accuracy_score(y_pred_10, y_pred_p_10),\n",
    "                  balanced_accuracy_score(y_pred_15, y_pred_p_15),\n",
    "                  balanced_accuracy_score(y_pred_20, y_pred_p_20),\n",
    "                  balanced_accuracy_score(y_pred_25, y_pred_p_25),\n",
    "                  balanced_accuracy_score(y_pred_50, y_pred_p_50),\n",
    "                  balanced_accuracy_score(y_pred_75, y_pred_p_75)]\n",
    "    return scores"
   ]
  },
  {
   "cell_type": "code",
   "execution_count": null,
   "metadata": {
    "id": "Ng2wQD0r1Amz"
   },
   "outputs": [],
   "source": [
    "oc_s = []\n",
    "oc_ns = []\n",
    "oc_sam = []\n",
    "\n",
    "for nb_layer in range(3):\n",
    "    oc_s.append(get_oc_scores(nb_layer, 's', epsilons['s']))\n",
    "    oc_ns.append(get_oc_scores(nb_layer, 'ns', epsilons['ns']))\n",
    "    oc_sam.append(get_oc_scores(nb_layer, 'sam', epsilons['sam']))\n"
   ]
  },
  {
   "cell_type": "markdown",
   "metadata": {
    "id": "HRkj604qcPDI"
   },
   "source": [
    "## Visualize results"
   ]
  },
  {
   "cell_type": "code",
   "execution_count": null,
   "metadata": {
    "colab": {
     "base_uri": "https://localhost:8080/",
     "height": 1000
    },
    "id": "Sn8e3Z6UC-nH",
    "outputId": "f8ec2dbb-6d27-492d-f192-611eea6f9e6e"
   },
   "outputs": [],
   "source": [
    "fig = plt.figure(tight_layout=True, frameon=False, figsize=(15,5),dpi=200)\n",
    "gs = gridspec.GridSpec(1,3)\n",
    "\n",
    "ax1 = fig.add_subplot(gs[0,0])\n",
    "ax1.plot(oc_s[0])\n",
    "ax1.plot(oc_ns[0])\n",
    "ax1.plot(oc_sam[0], linestyle='dotted')\n",
    "ax1.set_ylim(ymin = 0, ymax=1)\n",
    "ax1.set_ylabel('Output-completeness score', fontdict={'fontsize': 16})\n",
    "ax1.set_xticks(range(8))\n",
    "ax1.set_xticklabels([0, '5%', '10%', '15%', '20%', '25%', '50%', '75%'])\n",
    "ax1.set_xlabel('Epsilon', fontdict={'fontsize': 16})\n",
    "ax1.set_title('Output-completeness for explanations of SNN-1L', pad=10)\n",
    "ax1.legend(['TSA-S','TSA-NS', 'SAM'], prop={'size':13})\n",
    "\n",
    "ax2 = fig.add_subplot(gs[0,1])\n",
    "ax2.plot(oc_s[1])\n",
    "ax2.plot(oc_ns[1])\n",
    "ax2.plot(oc_sam[1], linestyle='dotted')\n",
    "ax2.set_ylim(ymin = 0, ymax=1)\n",
    "ax2.set_ylabel('Output-completeness  score', fontdict={'fontsize': 16})\n",
    "ax2.set_xticks(range(8))\n",
    "ax2.set_xticklabels([0, '5%', '10%', '15%', '20%', '25%', '50%', '75%'])\n",
    "ax2.set_xlabel('Epsilon', fontdict={'fontsize': 16})\n",
    "ax2.set_title('Output-completeness for explanations of SNN-2L', pad=10)\n",
    "ax2.legend(['TSA-S','TSA-NS', 'SAM'], prop={'size':13})\n",
    "\n",
    "ax3 = fig.add_subplot(gs[0,2])\n",
    "ax3.plot(oc_s[2])\n",
    "ax3.plot(oc_ns[2])\n",
    "ax3.plot(oc_sam[2], linestyle='dotted')\n",
    "ax3.set_ylim(ymin = 0, ymax=1)\n",
    "ax3.set_ylabel('Output-completeness score', fontdict={'fontsize': 16})\n",
    "ax3.set_xticks(range(8))\n",
    "ax3.set_xticklabels([0, '5%', '10%', '15%', '20%', '25%', '50%', '75%'])\n",
    "ax3.set_xlabel('Epsilon', fontdict={'fontsize': 16})\n",
    "ax3.set_title('Output-completeness for explanations of SNN-3L', pad=10)\n",
    "ax3.legend(['TSA-S', 'TSA-NS', 'SAM'], prop={'size':13})\n"
   ]
  },
  {
   "cell_type": "markdown",
   "metadata": {
    "id": "lAsGK0-CtPrB"
   },
   "source": [
    "# Correctness"
   ]
  },
  {
   "cell_type": "markdown",
   "metadata": {
    "id": "0Qttgr3j1AhS"
   },
   "source": [
    "## Reading the data"
   ]
  },
  {
   "cell_type": "code",
   "execution_count": null,
   "metadata": {
    "id": "r4m7RQSjtRaZ"
   },
   "outputs": [],
   "source": [
    "y_preds_p_one_s = load_obj(os.getcwd()+'\\\\correctness\\\\{}\\\\{}\\\\y_preds_perturbed_{}.pkl'.format('syn', 's', 'onelayer'))\n",
    "y_preds_p_two_s = load_obj(os.getcwd()+'\\\\correctness\\\\{}\\\\{}\\\\y_preds_perturbed_{}.pkl'.format('syn', 's', 'twolayer'))\n",
    "y_preds_p_three_s = load_obj(os.getcwd()+'\\\\correctness\\\\{}\\\\{}\\\\y_preds_perturbed_{}.pkl'.format('syn', 's', 'threelayer'))\n",
    "\n",
    "y_preds_p_one_ns2 = load_obj(os.getcwd()+'\\\\correctness\\\\{}\\\\{}\\\\y_preds_perturbed_{}.pkl'.format('syn', 'ns2', 'onelayer'))\n",
    "y_preds_p_two_ns2 = load_obj(os.getcwd()+'\\\\correctness\\\\{}\\\\{}\\\\y_preds_perturbed_{}.pkl'.format('syn', 'ns2', 'twolayer'))\n",
    "y_preds_p_three_ns2 = load_obj(os.getcwd()+'\\\\correctness\\\\{}\\\\{}\\\\y_preds_perturbed_{}.pkl'.format('syn', 'ns2', 'threelayer'))\n"
   ]
  },
  {
   "cell_type": "code",
   "execution_count": null,
   "metadata": {},
   "outputs": [],
   "source": [
    "# some postprocessing since some explanations are empty, so fill up the label arrays to make the ground truth to compare against\n",
    "for i, y_pred in enumerate(y_preds_p_one_s):\n",
    "    if len(y_pred) == 0:\n",
    "        y_preds_p_one_s[i].append(y_true[:, i][0])\n",
    "for i, y_pred in enumerate(y_preds_p_two_s):\n",
    "    if len(y_pred) == 0:\n",
    "        y_preds_p_two_s[i].append(y_true[:, i][0])\n",
    "for i, y_pred in enumerate(y_preds_p_three_s):\n",
    "    if len(y_pred) == 0:\n",
    "        y_preds_p_three_s[i].append(y_true[:, i][0])\n",
    "        \n",
    "for i, y_pred in enumerate(y_preds_p_one_ns2):\n",
    "    if len(y_pred) == 0:\n",
    "        y_preds_p_one_ns2[i].append(y_true[:, i][0])\n",
    "for i, y_pred in enumerate(y_preds_p_two_ns2):\n",
    "    if len(y_pred) == 0:\n",
    "        y_preds_p_two_ns2[i].append(y_true[:, i][0])\n",
    "for i, y_pred in enumerate(y_preds_p_three_ns2):\n",
    "    if len(y_pred) == 0:\n",
    "        y_preds_p_three_ns2[i].append(y_true[:, i][0])"
   ]
  },
  {
   "cell_type": "markdown",
   "metadata": {
    "id": "6QBtvRgq1Dx3"
   },
   "source": [
    "## Normalization and combination of the results per model"
   ]
  },
  {
   "cell_type": "code",
   "execution_count": null,
   "metadata": {
    "id": "_1PrZEMoN_cj"
   },
   "outputs": [],
   "source": [
    "def get_perf_curve_yhat(y_preds_p):\n",
    "    y_hat = [pred[0] for pred in y_preds_p] # get the first prediction of the model without perturbations yet\n",
    "    perf = []\n",
    "    for i in range(max([len(y_pred) for y_pred in y_preds_p])):\n",
    "        y_pred_p = [pred[i] if i<len(pred) else pred[-1] for pred in y_preds_p]\n",
    "        perf.append(balanced_accuracy_score(y_hat, y_pred_p))\n",
    "    return perf\n",
    "\n",
    "def get_perf_curve_ytrue(y_preds_p):\n",
    "    perf = []\n",
    "    for i in range(max([len(y_pred) for y_pred in y_preds_p])):\n",
    "        y_pred_p = [pred[i] if i<len(pred) else pred[-1] for pred in y_preds_p]\n",
    "        perf.append(balanced_accuracy_score(y_true[0], y_pred_p))\n",
    "    return perf"
   ]
  },
  {
   "cell_type": "code",
   "execution_count": null,
   "metadata": {
    "colab": {
     "base_uri": "https://localhost:8080/"
    },
    "id": "si6IjqPM_bP-",
    "outputId": "30f0ca2b-3491-4035-d0d2-0c8dd5dfe5d1"
   },
   "outputs": [],
   "source": [
    "perf_one_yhat_s = get_perf_curve_yhat(y_preds_p_one_s)\n",
    "perf_one_ytrue_s = get_perf_curve_ytrue(y_preds_p_one_s)\n",
    "perf_one_yhat_ns2 = get_perf_curve_yhat(y_preds_p_one_ns2)\n",
    "perf_one_ytrue_ns2 = get_perf_curve_ytrue(y_preds_p_one_ns2)\n",
    "\n",
    "perf_two_yhat_s = get_perf_curve_yhat(y_preds_p_two_s)\n",
    "perf_two_ytrue_s = get_perf_curve_ytrue(y_preds_p_two_s)\n",
    "perf_two_yhat_ns2 = get_perf_curve_yhat(y_preds_p_two_ns2)\n",
    "perf_two_ytrue_ns2 = get_perf_curve_ytrue(y_preds_p_two_ns2)\n",
    "\n",
    "perf_three_yhat_s = get_perf_curve_yhat(y_preds_p_three_s)\n",
    "perf_three_ytrue_s = get_perf_curve_ytrue(y_preds_p_three_s)\n",
    "perf_three_yhat_ns2 = get_perf_curve_yhat(y_preds_p_three_ns2)\n",
    "perf_three_ytrue_ns2 = get_perf_curve_ytrue(y_preds_p_three_ns2)\n"
   ]
  },
  {
   "cell_type": "code",
   "execution_count": null,
   "metadata": {
    "colab": {
     "base_uri": "https://localhost:8080/"
    },
    "id": "R7rdVXgZOE6r",
    "outputId": "121b1cb2-1892-497d-d606-d43a35f05b50"
   },
   "outputs": [],
   "source": [
    "ess_yhat_one_s = metrics.auc(range(len(perf_one_yhat_s)), perf_one_yhat_s)\n",
    "norm_ess_yhat_one_s = ess_yhat_one_s/len(perf_one_yhat_s)\n",
    "ess_yhat_one_ns2 = metrics.auc(range(len(perf_one_yhat_ns2)), perf_one_yhat_ns2)\n",
    "norm_ess_yhat_one_ns2 = ess_yhat_one_ns2/len(perf_one_yhat_ns2)\n",
    "\n",
    "ess_yhat_two_s = metrics.auc(range(len(perf_two_yhat_s)), perf_two_yhat_s)\n",
    "norm_ess_yhat_two_s = ess_yhat_two_s/len(perf_two_yhat_s)\n",
    "ess_yhat_two_ns2 = metrics.auc(range(len(perf_two_yhat_ns2)), perf_two_yhat_ns2)\n",
    "norm_ess_yhat_two_ns2 = ess_yhat_two_ns2/len(perf_two_yhat_ns2)\n",
    "\n",
    "ess_yhat_three_s = metrics.auc(range(len(perf_three_yhat_s)), perf_three_yhat_s)\n",
    "norm_ess_yhat_three_s = ess_yhat_three_s/len(perf_three_yhat_s)\n",
    "ess_yhat_three_ns2 = metrics.auc(range(len(perf_three_yhat_ns2)), perf_three_yhat_ns2)\n",
    "norm_ess_yhat_three_ns2 = ess_yhat_three_ns2/len(perf_three_yhat_ns2)\n",
    "\n",
    "print('ESS for TSA-S Explanations from OneLayerSNN: ', norm_ess_yhat_one_s, ' +- ', conf_interval(norm_ess_yhat_one_s, 100))\n",
    "print('ESS for TSA-NS2 Explanations from OneLayerSNN: ', norm_ess_yhat_one_ns2, ' +- ', conf_interval(norm_ess_yhat_one_ns2, 100))\n",
    "\n",
    "print('ESS for TSA-S Explanations from TwoLayerSNN: ', norm_ess_yhat_two_s, ' +- ', conf_interval(norm_ess_yhat_two_s, 100))\n",
    "print('ESS for TSA-NS2 Explanations from TwoLayerSNN: ', norm_ess_yhat_two_ns2, ' +- ', conf_interval(norm_ess_yhat_two_ns2, 100))\n",
    "\n",
    "print('ESS for TSA-S Explanations from ThreeLayerSNN: ', norm_ess_yhat_three_s, ' +- ', conf_interval(norm_ess_yhat_three_s, 100))\n",
    "print('ESS for TSA-NS2 Explanations from ThreeLayerSNN: ', norm_ess_yhat_three_ns2, ' +- ', conf_interval(norm_ess_yhat_three_ns2, 100))\n"
   ]
  },
  {
   "cell_type": "code",
   "execution_count": null,
   "metadata": {
    "colab": {
     "base_uri": "https://localhost:8080/"
    },
    "id": "0lY6qFysgqZy",
    "outputId": "95d3ed0a-9dbc-4cd0-fa4c-ba079ce75a7b"
   },
   "outputs": [],
   "source": [
    "# conf_interval((norm_ess_yhat_one_ns2 + norm_ess_yhat_two_ns2 + norm_ess_yhat_three_ns2)/3, 180)"
   ]
  },
  {
   "cell_type": "code",
   "execution_count": null,
   "metadata": {
    "colab": {
     "base_uri": "https://localhost:8080/",
     "height": 769
    },
    "id": "hjPgy1W82jgH",
    "outputId": "d9ed236a-d84b-4f4e-a82f-cd925e3a9a7d"
   },
   "outputs": [],
   "source": [
    "fig = plt.figure(tight_layout=True, dpi=150, frameon=False, figsize=(15,5))\n",
    "gs = gridspec.GridSpec(1,3)\n",
    "\n",
    "ax1 = fig.add_subplot(gs[0,0])\n",
    "ax1.plot(perf_one_yhat_s, color=(194/256, 154/256, 177/256))\n",
    "ax1.plot(perf_one_yhat_ns2, color=(219/256, 154/256, 143/256))\n",
    "ax1.set_ylim(0,1)\n",
    "ax1.set_ylabel('Balanced accuracy', fontdict={'size': 16})\n",
    "ax1.set_xlabel('Number of flipped segments', fontdict={'size': 16})\n",
    "ax1.legend(['TSA-S', 'TSA-NS2'], prop={'size':13})\n",
    "ax1.set_title('Balanced accuracy of OneLayerSNN\\n with flipped feature segments')\n",
    "\n",
    "ax2 = fig.add_subplot(gs[0,1])\n",
    "ax2.plot(perf_two_yhat_s, color=(194/256, 154/256, 177/256))\n",
    "ax2.plot(perf_two_yhat_ns2, color=(219/256, 154/256, 143/256))\n",
    "ax2.set_ylim(0,1)\n",
    "ax2.set_ylabel('Balanced accuracy', fontdict={'size': 16})\n",
    "ax2.set_xlabel('Number of flipped segments', fontdict={'size': 16})\n",
    "ax2.legend(['TSA-S', 'TSA-NS2'], prop={'size':13})\n",
    "ax2.set_title('Balanced accuracy of TwoLayerSNN \\n with flipped feature segments')\n",
    "\n",
    "ax3 = fig.add_subplot(gs[0,2])\n",
    "ax3.plot(perf_three_yhat_s, color=(194/256, 154/256, 177/256))\n",
    "ax3.plot(perf_three_yhat_ns2, color=(219/256, 154/256, 143/256))\n",
    "ax3.set_ylim(0,1)\n",
    "ax3.set_ylabel('Balanced accuracy', fontdict={'size': 16})\n",
    "ax3.set_xlabel('Number of flipped segments', fontdict={'size': 16})\n",
    "ax3.legend(['TSA-S', 'TSA-NS2'], prop={'size':13})\n",
    "ax3.set_title('Balanced accuracy of ThreeLayerSNN \\n with flipped feature segments')\n",
    "\n"
   ]
  },
  {
   "cell_type": "code",
   "execution_count": null,
   "metadata": {
    "colab": {
     "base_uri": "https://localhost:8080/",
     "height": 770
    },
    "id": "AklT-y7azaeH",
    "outputId": "d8fbb7a1-f27e-42a1-9194-5cc948df71f1"
   },
   "outputs": [],
   "source": [
    "fig = plt.figure(tight_layout=True, dpi=150, frameon=False, figsize=(15,5))\n",
    "gs = gridspec.GridSpec(1,3)\n",
    "\n",
    "ax1 = fig.add_subplot(gs[0,0])\n",
    "ax1.plot(perf_one_ytrue_s, color=(194/256, 154/256, 177/256))\n",
    "ax1.plot(perf_one_ytrue_ns2, color=(219/256, 154/256, 143/256))\n",
    "ax1.set_ylim(0,1)\n",
    "ax1.set_ylabel('Balanced accuracy', fontdict={'size': 16})\n",
    "ax1.set_xlabel('Number of flipped segments', fontdict={'size': 16})\n",
    "ax1.legend(['NCS', 'TSA-NS'], prop={'size':13})\n",
    "\n",
    "ax2 = fig.add_subplot(gs[0,1])\n",
    "ax2.plot(perf_two_ytrue_s, color=(194/256, 154/256, 177/256))\n",
    "ax2.plot(perf_two_ytrue_ns2, color=(219/256, 154/256, 143/256))\n",
    "ax2.set_ylim(0,1)\n",
    "ax2.set_ylabel('Balanced accuracy', fontdict={'size': 16})\n",
    "ax2.set_xlabel('Number of flipped segments', fontdict={'size': 16})\n",
    "ax2.legend(['NCS', 'TSA-NS'], prop={'size':13})\n",
    "\n",
    "ax3 = fig.add_subplot(gs[0,2])\n",
    "ax3.plot(perf_three_ytrue_s, color=(194/256, 154/256, 177/256))\n",
    "ax3.plot(perf_three_ytrue_ns2, color=(219/256, 154/256, 143/256))\n",
    "ax3.set_ylim(0,1)\n",
    "ax3.set_ylabel('Balanced accuracy', fontdict={'size': 16})\n",
    "ax3.set_xlabel('Number of flipped segments', fontdict={'size': 16})\n",
    "ax3.legend(['NCS', 'TSA-NS'], prop={'size':13})\n"
   ]
  },
  {
   "cell_type": "markdown",
   "metadata": {
    "id": "V9pZpiqzWMgd"
   },
   "source": [
    "# Sensitivity"
   ]
  },
  {
   "cell_type": "markdown",
   "metadata": {
    "id": "hWnNRaqBXO8M"
   },
   "source": [
    "### Read results"
   ]
  },
  {
   "cell_type": "code",
   "execution_count": null,
   "metadata": {},
   "outputs": [],
   "source": [
    "def get_sens_score(modelname, tsa_variant):\n",
    "    score = load_obj(os.getcwd()+'\\\\continuity\\\\{}\\\\{}\\\\max_sensitivity_{}.pkl'.format('syn', tsa_variant, modelname))\n",
    "    return score"
   ]
  },
  {
   "cell_type": "code",
   "execution_count": null,
   "metadata": {
    "id": "BRyBIwnYWN1W"
   },
   "outputs": [],
   "source": [
    "max_sensitivity_one_s = get_sens_score('one', 's')\n",
    "max_sensitivity_two_s = get_sens_score('two', 's')\n",
    "max_sensitivity_three_s = get_sens_score('three', 's')\n",
    "\n",
    "max_sensitivity_one_ns2 = get_sens_score('one', 'ns2')\n",
    "max_sensitivity_two_ns2 = get_sens_score('two', 'ns2')\n",
    "max_sensitivity_three_ns2 = get_sens_score('three', 'ns2')"
   ]
  },
  {
   "cell_type": "markdown",
   "metadata": {
    "id": "MQ04Wtw3XRVO"
   },
   "source": [
    "### Analyze"
   ]
  },
  {
   "cell_type": "code",
   "execution_count": null,
   "metadata": {
    "id": "gPqA7TGeXSrd"
   },
   "outputs": [],
   "source": [
    "sensitivities_s = [max_sensitivity_one_s, max_sensitivity_two_s, max_sensitivity_three_s]\n",
    "sensitivities_ns2 = [max_sensitivity_one_ns2, max_sensitivity_two_ns2, max_sensitivity_three_ns2]\n",
    "df_sensitivity = pd.DataFrame([sensitivities_s, sensitivities_ns2]).transpose()"
   ]
  },
  {
   "cell_type": "code",
   "execution_count": null,
   "metadata": {
    "colab": {
     "base_uri": "https://localhost:8080/",
     "height": 143
    },
    "id": "4tilx4p6XzLT",
    "outputId": "29269851-414b-460e-f31a-f8285060ae9c"
   },
   "outputs": [],
   "source": [
    "df_sensitivity"
   ]
  },
  {
   "cell_type": "markdown",
   "metadata": {
    "id": "ZBr4ke51P3Yx"
   },
   "source": [
    "# Compactness"
   ]
  },
  {
   "cell_type": "markdown",
   "metadata": {},
   "source": [
    "### Load explanations. Compactness is then the sum of absolute attribution values."
   ]
  },
  {
   "cell_type": "code",
   "execution_count": null,
   "metadata": {},
   "outputs": [],
   "source": [
    "def load_explanations(explanation_type, model):\n",
    "    return load_obj(os.getcwd() + '\\\\expl_{}_syn_nocw_{}.pkl'.format(model, explanation_type))"
   ]
  },
  {
   "cell_type": "code",
   "execution_count": null,
   "metadata": {},
   "outputs": [],
   "source": [
    "def compute_compactness(model, explanation_type):\n",
    "    explanations = {**load_explanations(explanation_type, model)}\n",
    "    sum_absolute_attribution = 0\n",
    "    for key in explanations.keys():\n",
    "        sum_absolute_attribution += torch.sum(torch.abs(explanations[key][0]))\n",
    "    return sum_absolute_attribution/100"
   ]
  },
  {
   "cell_type": "code",
   "execution_count": null,
   "metadata": {},
   "outputs": [],
   "source": [
    "models = ['one', 'two', 'three']\n",
    "explanation_types = ['ns2', 's']\n",
    "\n",
    "compactness_ns2 = []\n",
    "compactness_s = []\n",
    "for model in models:\n",
    "    compactness_s.append(compute_compactness(model, 's'))\n",
    "    compactness_ns2.append(compute_compactness(model, 'ns2'))\n"
   ]
  },
  {
   "cell_type": "code",
   "execution_count": null,
   "metadata": {},
   "outputs": [],
   "source": [
    "compactness_ns2"
   ]
  },
  {
   "cell_type": "code",
   "execution_count": null,
   "metadata": {},
   "outputs": [],
   "source": [
    "compactness_s"
   ]
  },
  {
   "cell_type": "code",
   "execution_count": null,
   "metadata": {},
   "outputs": [],
   "source": [
    "def compute_sample_std(model, explanation_type):\n",
    "    explanations = {**load_explanations(explanation_type, model)}\n",
    "    x_bar = compute_compactness(model, explanation_type)\n",
    "    s = 0\n",
    "    for key in explanations.keys():\n",
    "        s += (torch.sum(torch.abs(explanations[key][0])) - x_bar)**2\n",
    "    s = s/179\n",
    "    return s\n",
    "\n",
    "def compute_95_ci(s, n):\n",
    "# t statistic is 1.97 for 180 dof and 95% ci\n",
    "    return 1.97*(s/(n**0.5))"
   ]
  },
  {
   "cell_type": "code",
   "execution_count": null,
   "metadata": {},
   "outputs": [],
   "source": [
    "for model in models:\n",
    "    for explanation_type in explanation_types:\n",
    "        s = compute_sample_std(model, explanation_type)\n",
    "        ci = compute_95_ci(s, 100)\n",
    "        print('CI of {}, {}:{}'.format(model, explanation_type, ci))"
   ]
  },
  {
   "cell_type": "code",
   "execution_count": null,
   "metadata": {},
   "outputs": [],
   "source": []
  }
 ],
 "metadata": {
  "accelerator": "GPU",
  "colab": {
   "collapsed_sections": [
    "6rsZZeKfYy3Q"
   ],
   "name": "Quantitative Analysis - Results.ipynb",
   "provenance": []
  },
  "kernelspec": {
   "display_name": "Python 3",
   "language": "python",
   "name": "python3"
  },
  "language_info": {
   "codemirror_mode": {
    "name": "ipython",
    "version": 3
   },
   "file_extension": ".py",
   "mimetype": "text/x-python",
   "name": "python",
   "nbconvert_exporter": "python",
   "pygments_lexer": "ipython3",
   "version": "3.8.8"
  }
 },
 "nbformat": 4,
 "nbformat_minor": 1
}