{
 "nbformat": 4,
 "nbformat_minor": 0,
 "metadata": {
  "colab": {
   "name": "Quantitative Analysis - Results.ipynb",
   "provenance": [],
   "collapsed_sections": [
    "6rsZZeKfYy3Q"
   ]
  },
  "kernelspec": {
   "name": "python3",
   "display_name": "Python 3"
  },
  "language_info": {
   "name": "python"
  },
  "accelerator": "GPU"
 },
 "cells": [
  {
   "cell_type": "code",
   "metadata": {
    "id": "lh5DZKgeYYr3"
   },
   "source": [
    "import os\n",
    "import random\n",
    "\n",
    "import numpy as np\n",
    "import pandas as pd\n",
    "import matplotlib.gridspec as gridspec\n",
    "import torch\n",
    "import matplotlib.pyplot as plt\n",
    "import re\n",
    "\n",
    "random.seed(123)\n",
    "torch.manual_seed(123)\n",
    "np.random.seed(123)\n",
    "\n",
    "os.chdir('../models/')\n",
    "from CoreSNN import *\n",
    "os.chdir('../tsa/')\n",
    "from ExplanationCreation import *\n",
    "from ExplanationEvaluation import *"
   ],
   "execution_count": null,
   "outputs": []
  },
  {
   "cell_type": "code",
   "metadata": {
    "id": "gK20VFQVi_5w"
   },
   "source": [
    "dataset = load_obj('data/dataset_max.pkl')\n",
    "A_testset_t = load_obj('data/quantitative_test_t_A_final.pkl')\n",
    "B_testset_t = load_obj('data/quantitative_test_t_B_final.pkl')\n",
    "A_y_true = dataset['y_test_A'][:, A_testset_t]\n",
    "B_y_true = dataset['y_test_B'][:, B_testset_t]"
   ],
   "execution_count": null,
   "outputs": []
  },
  {
   "cell_type": "markdown",
   "metadata": {
    "id": "6rsZZeKfYy3Q"
   },
   "source": [
    "# Output-completeness"
   ]
  },
  {
   "cell_type": "markdown",
   "metadata": {
    "id": "Qh1zvelpcLOp"
   },
   "source": [
    "## Read result data"
   ]
  },
  {
   "cell_type": "code",
   "metadata": {
    "id": "QqFUZZqhBt1P"
   },
   "source": [
    "os.chdir('') #Add path to results\n",
    "epsilons = {'s': [], 'ns':[], 'sam':[]} # Fill tested epsilon values here\n",
    "\n",
    "def get_scores(nb_layer, expl_type, epsilons):\n",
    "    _, y_pred_A_0, y_pred_p_A_0 = load_obj(os.getcwd() + '\\\\evaluation\\\\output_completeness\\\\{}\\\\{}L_oc_A_epsilon{}.pkl'.format(expl_type, nb_layer, epsilons[0]))\n",
    "    _, y_pred_A_25, y_pred_p_A_25 = load_obj(os.getcwd() + '\\\\evaluation\\\\output_completeness\\\\{}\\\\{}L_oc_A_epsilon{}.pkl'.format(expl_type, nb_layer, epsilons[1]))\n",
    "    _, y_pred_A_50, y_pred_p_A_50 = load_obj(os.getcwd() + '\\\\evaluation\\\\output_completeness\\\\{}\\\\{}L_oc_A_epsilon{}.pkl'.format(expl_type, nb_layer, epsilons[2]))\n",
    "    _, y_pred_A_75, y_pred_p_A_75 = load_obj(os.getcwd() + '\\\\evaluation\\\\output_completeness\\\\{}\\\\{}L_oc_A_epsilon{}.pkl'.format(expl_type, nb_layer, epsilons[3]))\n",
    "    _, y_pred_B_0, y_pred_p_B_0 = load_obj(os.getcwd() + '\\\\evaluation\\\\output_completeness\\\\{}\\\\{}L_oc_B_epsilon{}.pkl'.format(expl_type, nb_layer, epsilons[0]))\n",
    "    _, y_pred_B_25, y_pred_p_B_25 = load_obj(os.getcwd() + '\\\\evaluation\\\\output_completeness\\\\{}\\\\{}L_oc_B_epsilon{}.pkl'.format(expl_type, nb_layer, epsilons[1]))\n",
    "    _, y_pred_B_50, y_pred_p_B_50 = load_obj(os.getcwd() + '\\\\evaluation\\\\output_completeness\\\\{}\\\\{}L_oc_B_epsilon{}.pkl'.format(expl_type, nb_layer, epsilons[2]))\n",
    "    _, y_pred_B_75, y_pred_p_B_75 = load_obj(os.getcwd() + '\\\\evaluation\\\\output_completeness\\\\{}\\\\{}L_oc_B_epsilon{}.pkl'.format(expl_type, nb_layer, epsilons[3]))\n",
    "\n",
    "    scores = [balanced_accuracy_score([*y_pred_A_0, *y_pred_B_0], [*y_pred_p_A_0, *y_pred_p_B_0]),\n",
    "              balanced_accuracy_score([*y_pred_A_25, *y_pred_B_25], [*y_pred_p_A_25, *y_pred_p_B_25]),\n",
    "              balanced_accuracy_score([*y_pred_A_50, *y_pred_B_50], [*y_pred_p_A_50, *y_pred_p_B_50]),\n",
    "              balanced_accuracy_score([*y_pred_A_75, *y_pred_B_75], [*y_pred_p_A_75, *y_pred_p_B_75])]\n",
    "    return scores"
   ],
   "execution_count": null,
   "outputs": []
  },
  {
   "cell_type": "code",
   "metadata": {
    "id": "Ng2wQD0r1Amz"
   },
   "source": [
    "oc_s = []\n",
    "oc_ns = []\n",
    "oc_sam = []\n",
    "\n",
    "for nb_layer in range(3):\n",
    "    oc_s.append(get_scores(nb_layer, 's', epsilons['s']))\n",
    "    oc_ns.append(get_scores(nb_layer, 'ns', epsilons['ns']))\n",
    "    oc_sam.append(get_scores(nb_layer, 'sam', epsilons['sam']))"
   ],
   "execution_count": null,
   "outputs": []
  },
  {
   "cell_type": "markdown",
   "metadata": {
    "id": "HRkj604qcPDI"
   },
   "source": [
    "## Visualize results"
   ]
  },
  {
   "cell_type": "code",
   "metadata": {
    "colab": {
     "base_uri": "https://localhost:8080/",
     "height": 1000
    },
    "id": "Sn8e3Z6UC-nH",
    "outputId": "6aae9d06-519d-4e97-d9f0-c30104d9c97e"
   },
   "source": [
    "fig = plt.figure(tight_layout=True, frameon=False, figsize=(15,5),dpi=200)\n",
    "gs = gridspec.GridSpec(1,3)\n",
    "\n",
    "ax1 = fig.add_subplot(gs[0,0])\n",
    "ax1.plot(oc_s[0])\n",
    "ax1.plot(oc_ns[0])\n",
    "ax1.plot(oc_sam[0], linestyle='dotted')\n",
    "ax1.set_ylim(ymin = 0, ymax=1)\n",
    "ax1.set_ylabel('Output-completeness score', fontdict={'fontsize': 16})\n",
    "ax1.set_xticks(range(4))\n",
    "ax1.set_xticklabels([0, '25%', '50%', '75%'])\n",
    "ax1.set_xlabel('Epsilon', fontdict={'fontsize': 16})\n",
    "ax1.set_title('Output-completeness for explanations of SNN-1L', pad=10)\n",
    "ax1.legend(['TSA-S','TSA-NS', 'SAM'], prop={'size':13})\n",
    "\n",
    "ax2 = fig.add_subplot(gs[0,1])\n",
    "ax2.plot(oc_s[1])\n",
    "ax2.plot(oc_ns[1])\n",
    "ax2.plot(oc_sam[1], linestyle='dotted')\n",
    "ax2.set_ylim(ymin = 0, ymax=1)\n",
    "ax2.set_ylabel('Output-completeness score', fontdict={'fontsize': 16})\n",
    "ax2.set_xticks(range(4))\n",
    "ax2.set_xticklabels([0, '25%', '50%', '75%'])\n",
    "ax2.set_xlabel('Epsilon', fontdict={'fontsize': 16})\n",
    "ax2.set_title('Output-completeness for explanations of SNN-2L', pad=10)\n",
    "ax2.legend(['TSA-S','TSA-NS', 'SAM'], prop={'size':13})\n",
    "\n",
    "ax3 = fig.add_subplot(gs[0,2])\n",
    "ax3.plot(oc_s[2])\n",
    "ax3.plot(oc_ns[2])\n",
    "ax3.plot(oc_sam[2], linestyle='dotted')\n",
    "ax3.set_ylim(ymin = 0, ymax=1)\n",
    "ax3.set_ylabel('Output-completeness score', fontdict={'fontsize': 16})\n",
    "ax3.set_xticks(range(4))\n",
    "ax3.set_xticklabels([0, '25%', '50%', '75%'])\n",
    "ax3.set_xlabel('Epsilon', fontdict={'fontsize': 16})\n",
    "ax3.set_title('Output-completeness for explanations of SNN-3L', pad=10)\n",
    "ax3.legend(['TSA-S','TSA-NS', 'SAM'], prop={'size':13})"
   ],
   "execution_count": null,
   "outputs": []
  },
  {
   "cell_type": "markdown",
   "metadata": {
    "id": "lAsGK0-CtPrB"
   },
   "source": [
    "# Faithfulness"
   ]
  },
  {
   "cell_type": "markdown",
   "metadata": {
    "id": "0Qttgr3j1AhS"
   },
   "source": [
    "## Reading the data"
   ]
  },
  {
   "cell_type": "code",
   "metadata": {
    "id": "r4m7RQSjtRaZ"
   },
   "source": [
    "# Perhaps adjust the paths\n",
    "\n",
    "y_preds_p_oneA_ns = load_obj(os.getcwd()+'/faithfulness/tsa-ns/y_preds_perturbed_onelayer_A.pkl')\n",
    "y_preds_p_oneB_ns = load_obj(os.getcwd()+'/faithfulness/tsa-ns/y_preds_perturbed_onelayer_B.pkl')\n",
    "y_preds_p_twoA_ns = load_obj(os.getcwd()+'/faithfulness/tsa-ns/y_preds_perturbed_twolayer_A.pkl')\n",
    "y_preds_p_twoB_ns = load_obj(os.getcwd()+'/faithfulness/tsa-ns/y_preds_perturbed_twolayer_B.pkl')\n",
    "y_preds_p_threeA_ns = load_obj(os.getcwd()+'/faithfulness/tsa-ns/y_preds_perturbed_threelayer_A.pkl')\n",
    "y_preds_p_threeB_ns = load_obj(os.getcwd()+'/faithfulness/tsa-ns/y_preds_perturbed_threelayer_B.pkl')\n",
    "\n",
    "y_preds_p_oneA_s = load_obj(os.getcwd()+'/faithfulness/tsa-s/y_preds_perturbed_onelayer_A.pkl')\n",
    "y_preds_p_oneB_s = load_obj(os.getcwd()+'/faithfulness/tsa-s/y_preds_perturbed_onelayer_B.pkl')\n",
    "y_preds_p_twoA_s = load_obj(os.getcwd()+'/faithfulness/tsa-s/y_preds_perturbed_twolayer_A.pkl')\n",
    "y_preds_p_twoB_s = load_obj(os.getcwd()+'/faithfulness/tsa-s/y_preds_perturbed_twolayer_B.pkl')\n",
    "y_preds_p_threeA_s = load_obj(os.getcwd()+'/faithfulness/tsa-s/y_preds_perturbed_threelayer_A.pkl')\n",
    "y_preds_p_threeB_s = load_obj(os.getcwd()+'/faithfulness/tsa-s/y_preds_perturbed_threelayer_B.pkl')\n",
    "\n",
    "y_preds_p_oneA_baseline = load_obj(os.getcwd()+'/faithfulness/baseline_y_preds_perturbed_onelayer_A.pkl')\n",
    "y_preds_p_oneB_baseline = load_obj(os.getcwd()+'/faithfulness/baseline_y_preds_perturbed_onelayer_B.pkl')\n",
    "y_preds_p_twoA_baseline = load_obj(os.getcwd()+'/faithfulness/baseline_y_preds_perturbed_twolayer_A.pkl')\n",
    "y_preds_p_twoB_baseline = load_obj(os.getcwd()+'/faithfulness/baseline_y_preds_perturbed_twolayer_B.pkl')\n",
    "y_preds_p_threeA_baseline = load_obj(os.getcwd()+'/faithfulness/baseline_y_preds_perturbed_threelayer_A.pkl')\n",
    "y_preds_p_threeB_baseline = load_obj(os.getcwd()+'/faithfulness/baseline_y_preds_perturbed_threelayer_B.pkl')"
   ],
   "execution_count": null,
   "outputs": []
  },
  {
   "cell_type": "code",
   "metadata": {
    "id": "ikoPcJxsfMpA"
   },
   "source": [
    "# no feature segments found for A t=9 in the explanations extracted from ThreeLayerSNN, so only consider the original prediction \n",
    "y_preds_p_threeA_s[37] = [5]"
   ],
   "execution_count": null,
   "outputs": []
  },
  {
   "cell_type": "markdown",
   "metadata": {
    "id": "6QBtvRgq1Dx3"
   },
   "source": [
    "## Normalization and combination of the results per model"
   ]
  },
  {
   "cell_type": "code",
   "metadata": {
    "id": "_1PrZEMoN_cj"
   },
   "source": [
    "def get_perf_curve_yhat(y_preds_p_A, y_preds_p_B):\n",
    "    y_hat = [pred[0] for pred in y_preds_p_A]\n",
    "    y_hat_B = [pred[0] for pred in y_preds_p_B]\n",
    "    y_hat.extend(y_hat_B)\n",
    "\n",
    "    perf = []\n",
    "    for i in range(max([len(y_pred) for y_pred in y_preds_p_A])):\n",
    "        y_pred_p = [pred[i] if i<len(pred) else pred[-1] for pred in y_preds_p_A]\n",
    "        y_pred_p_B = [pred[i] if i<len(pred) else pred[-1] for pred in y_preds_p_B]\n",
    "        y_pred_p.extend(y_pred_p_B)\n",
    "        perf.append(balanced_accuracy_score(y_hat, y_pred_p))\n",
    "    return perf\n",
    "\n",
    "def get_perf_curve_ytrue(y_preds_p_A, y_preds_p_B):\n",
    "    perf = []\n",
    "    for i in range(max([len(y_pred) for y_pred in y_preds_p_A])):\n",
    "        y_pred_p = [pred[i] if i<len(pred) else pred[-1] for pred in y_preds_p_A]\n",
    "        y_pred_p_B = [pred[i] if i<len(pred) else pred[-1] for pred in y_preds_p_B]\n",
    "        y_pred_p.extend(y_pred_p_B)\n",
    "        perf.append(balanced_accuracy_score([*A_y_true[0], *B_y_true[0]], y_pred_p))\n",
    "    return perf"
   ],
   "execution_count": null,
   "outputs": []
  },
  {
   "cell_type": "code",
   "metadata": {
    "colab": {
     "base_uri": "https://localhost:8080/"
    },
    "id": "si6IjqPM_bP-",
    "outputId": "466e08a7-c83d-46f3-fc6a-b7c1d6223400"
   },
   "source": [
    "perf_one_yhat_ns = get_perf_curve_yhat(y_preds_p_oneA_ns, y_preds_p_oneB_ns)\n",
    "perf_one_ytrue_ns = get_perf_curve_ytrue(y_preds_p_oneA_ns, y_preds_p_oneB_ns)\n",
    "perf_one_yhat_s = get_perf_curve_yhat(y_preds_p_oneA_s, y_preds_p_oneB_s)\n",
    "perf_one_ytrue_s = get_perf_curve_ytrue(y_preds_p_oneA_s, y_preds_p_oneB_s)\n",
    "perf_one_yhat_baseline = get_perf_curve_yhat(y_preds_p_oneA_baseline, y_preds_p_oneB_baseline)\n",
    "perf_one_ytrue_baseline = get_perf_curve_ytrue(y_preds_p_oneA_baseline, y_preds_p_oneB_baseline)\n",
    "\n",
    "perf_two_yhat_ns = get_perf_curve_yhat(y_preds_p_twoA_ns, y_preds_p_twoB_ns)\n",
    "perf_two_ytrue_ns = get_perf_curve_ytrue(y_preds_p_twoA_ns, y_preds_p_twoB_ns)\n",
    "perf_two_yhat_s = get_perf_curve_yhat(y_preds_p_twoA_s, y_preds_p_twoB_s)\n",
    "perf_two_ytrue_s = get_perf_curve_ytrue(y_preds_p_twoA_s, y_preds_p_twoB_s)\n",
    "perf_two_yhat_baseline = get_perf_curve_yhat(y_preds_p_twoA_baseline, y_preds_p_twoB_baseline)\n",
    "perf_two_ytrue_baseline = get_perf_curve_ytrue(y_preds_p_oneA_baseline, y_preds_p_oneB_baseline)\n",
    "\n",
    "perf_three_yhat_ns = get_perf_curve_yhat(y_preds_p_threeA_ns, y_preds_p_threeB_ns)\n",
    "perf_three_ytrue_ns = get_perf_curve_ytrue(y_preds_p_threeA_ns, y_preds_p_threeB_ns)\n",
    "perf_three_yhat_s = get_perf_curve_yhat(y_preds_p_threeA_s, y_preds_p_threeB_s)\n",
    "perf_three_ytrue_s = get_perf_curve_ytrue(y_preds_p_threeA_s, y_preds_p_threeB_s)\n",
    "perf_three_yhat_baseline = get_perf_curve_yhat(y_preds_p_threeA_baseline, y_preds_p_threeB_baseline)\n",
    "perf_three_ytrue_baseline = get_perf_curve_ytrue(y_preds_p_oneA_baseline, y_preds_p_oneB_baseline)\n"
   ],
   "execution_count": null,
   "outputs": []
  },
  {
   "cell_type": "code",
   "metadata": {
    "colab": {
     "base_uri": "https://localhost:8080/"
    },
    "id": "R7rdVXgZOE6r",
    "outputId": "4f907514-a5f7-480b-8665-8165a5bb0094"
   },
   "source": [
    "ess_yhat_one_ns = metrics.auc(range(len(perf_one_yhat_ns)), perf_one_yhat_ns)\n",
    "norm_ess_yhat_one_ns = ess_yhat_one_ns/len(perf_one_yhat_ns)\n",
    "ess_yhat_one_s = metrics.auc(range(len(perf_one_yhat_s)), perf_one_yhat_s)\n",
    "norm_ess_yhat_one_s = ess_yhat_one_s/len(perf_one_yhat_s)\n",
    "ess_yhat_one_baseline = metrics.auc(range(len(perf_one_yhat_baseline)), perf_one_yhat_baseline)\n",
    "norm_ess_yhat_one_baseline = ess_yhat_one_baseline/len(perf_one_yhat_baseline)\n",
    "\n",
    "ess_yhat_two_ns = metrics.auc(range(len(perf_two_yhat_ns)), perf_two_yhat_ns)\n",
    "norm_ess_yhat_two_ns = ess_yhat_two_ns/len(perf_two_yhat_ns)\n",
    "ess_yhat_two_s = metrics.auc(range(len(perf_two_yhat_s)), perf_two_yhat_s)\n",
    "norm_ess_yhat_two_s = ess_yhat_two_s/len(perf_two_yhat_s)\n",
    "ess_yhat_two_baseline = metrics.auc(range(len(perf_two_yhat_baseline)), perf_two_yhat_baseline)\n",
    "norm_ess_yhat_two_baseline = ess_yhat_two_baseline/len(perf_two_yhat_baseline)\n",
    "\n",
    "ess_yhat_three_ns = metrics.auc(range(len(perf_three_yhat_ns)), perf_three_yhat_ns)\n",
    "norm_ess_yhat_three_ns = ess_yhat_three_ns/len(perf_three_yhat_ns)\n",
    "ess_yhat_three_s = metrics.auc(range(len(perf_three_yhat_s)), perf_three_yhat_s)\n",
    "norm_ess_yhat_three_s = ess_yhat_three_s/len(perf_three_yhat_s)\n",
    "ess_yhat_three_baseline = metrics.auc(range(len(perf_three_yhat_baseline)), perf_three_yhat_baseline)\n",
    "norm_ess_yhat_three_baseline = ess_yhat_three_baseline/len(perf_three_yhat_baseline)\n",
    "\n",
    "print('ESS for TSA-NS Explanations from OneLayerSNN: ', norm_ess_yhat_one_ns, ' +- ', conf_interval(norm_ess_yhat_one_ns, 180))\n",
    "print('ESS for TSA-S Explanations from OneLayerSNN: ', norm_ess_yhat_one_s, ' +- ', conf_interval(norm_ess_yhat_one_s, 180))\n",
    "print('ESS for Baseline Explanations from OneLayerSNN: ', norm_ess_yhat_one_baseline, ' +- ', conf_interval(norm_ess_yhat_one_baseline, 180))\n",
    "print('ESS for TSA-NS Explanations from TwoLayerSNN: ', norm_ess_yhat_two_ns, ' +- ', conf_interval(norm_ess_yhat_two_ns, 180))\n",
    "print('ESS for TSA-S Explanations from TwoLayerSNN: ', norm_ess_yhat_two_s, ' +- ', conf_interval(norm_ess_yhat_two_s, 180))\n",
    "print('ESS for Baseline Explanations from TwoLayerSNN: ', norm_ess_yhat_two_baseline, ' +- ', conf_interval(norm_ess_yhat_two_baseline, 180))\n",
    "print('ESS for TSA-NS Explanations from ThreeLayerSNN: ', norm_ess_yhat_three_ns, ' +- ', conf_interval(norm_ess_yhat_three_ns, 180))\n",
    "print('ESS for TSA-S Explanations from ThreeLayerSNN: ', norm_ess_yhat_three_s, ' +- ', conf_interval(norm_ess_yhat_three_s, 180))\n",
    "print('ESS for Baseline Explanations from ThreeLayerSNN: ', norm_ess_yhat_three_baseline, ' +- ', conf_interval(norm_ess_yhat_three_baseline, 180))"
   ],
   "execution_count": null,
   "outputs": []
  },
  {
   "cell_type": "code",
   "metadata": {
    "colab": {
     "base_uri": "https://localhost:8080/"
    },
    "id": "0lY6qFysgqZy",
    "outputId": "05b2fb26-7b06-40be-b482-69e57c527445"
   },
   "source": [
    "(norm_ess_yhat_one_baseline + norm_ess_yhat_two_baseline + norm_ess_yhat_three_baseline)/3"
   ],
   "execution_count": null,
   "outputs": []
  },
  {
   "cell_type": "code",
   "metadata": {
    "colab": {
     "base_uri": "https://localhost:8080/",
     "height": 497
    },
    "id": "hjPgy1W82jgH",
    "outputId": "a5ebcd4e-ddde-4c55-c5c3-df6939ce70c9"
   },
   "source": [
    "fig = plt.figure(tight_layout=True, dpi=150, frameon=False, figsize=(15,5))\n",
    "gs = gridspec.GridSpec(1,3)\n",
    "\n",
    "ax1 = fig.add_subplot(gs[0,0])\n",
    "ax1.plot(perf_one_yhat_s, color=(194/256, 154/256, 177/256))\n",
    "ax1.plot(perf_one_yhat_ns, color=(219/256, 154/256, 143/256))\n",
    "ax1.plot(perf_one_yhat_baseline, color=(115/256, 75/256, 103/256), linestyle='dotted')\n",
    "ax1.set_ylim(0,1)\n",
    "ax1.set_ylabel('Balanced accuracy', fontdict={'size': 16})\n",
    "ax1.set_xlabel('Number of flipped segments', fontdict={'size': 16})\n",
    "ax1.legend(['TSA-S', 'TSA-NS', 'Baseline'], prop={'size':13})\n",
    "ax1.set_title('Balanced accuracy of OneLayerSNN\\n with flipped feature segments')\n",
    "\n",
    "ax2 = fig.add_subplot(gs[0,1])\n",
    "ax2.plot(perf_two_yhat_s, color=(194/256, 154/256, 177/256))\n",
    "ax2.plot(perf_two_yhat_ns, color=(219/256, 154/256, 143/256))\n",
    "ax2.plot(perf_two_yhat_baseline, color=(115/256, 75/256, 103/256), linestyle='dotted')\n",
    "ax2.set_ylim(0,1)\n",
    "ax2.set_ylabel('Balanced accuracy', fontdict={'size': 16})\n",
    "ax2.set_xlabel('Number of flipped segments', fontdict={'size': 16})\n",
    "ax2.legend(['TSA-S', 'TSA-NS', 'Baseline'], prop={'size':13})\n",
    "ax2.set_title('Balanced accuracy of TwoLayerSNN \\n with flipped feature segments')\n",
    "\n",
    "ax3 = fig.add_subplot(gs[0,2])\n",
    "ax3.plot(perf_three_yhat_s, color=(194/256, 154/256, 177/256))\n",
    "ax3.plot(perf_three_yhat_ns, color=(219/256, 154/256, 143/256))\n",
    "ax3.plot(perf_three_yhat_baseline, color=(115/256, 75/256, 103/256), linestyle='dotted')\n",
    "ax3.set_ylim(0,1)\n",
    "ax3.set_ylabel('Balanced accuracy', fontdict={'size': 16})\n",
    "ax3.set_xlabel('Number of flipped segments', fontdict={'size': 16})\n",
    "ax3.legend(['TSA-S', 'TSA-NS', 'Baseline'], prop={'size':13})\n",
    "ax3.set_title('Balanced accuracy of ThreeLayerSNN \\n with flipped feature segments')\n",
    "\n"
   ],
   "execution_count": null,
   "outputs": []
  },
  {
   "cell_type": "code",
   "metadata": {
    "id": "AklT-y7azaeH",
    "colab": {
     "base_uri": "https://localhost:8080/",
     "height": 497
    },
    "outputId": "1143b0b0-9da9-40cd-f910-cf39118fa9e5"
   },
   "source": [
    "fig = plt.figure(tight_layout=True, dpi=150, frameon=False, figsize=(15,5))\n",
    "gs = gridspec.GridSpec(1,3)\n",
    "\n",
    "ax1 = fig.add_subplot(gs[0,0])\n",
    "ax1.plot(perf_one_ytrue_s, color=(194/256, 154/256, 177/256))\n",
    "ax1.plot(perf_one_ytrue_ns, color=(219/256, 154/256, 143/256))\n",
    "ax1.plot(perf_one_ytrue_baseline, color=(115/256, 75/256, 103/256), linestyle='dotted')\n",
    "ax1.set_ylim(0,1)\n",
    "ax1.set_ylabel('Balanced accuracy', fontdict={'size': 16})\n",
    "ax1.set_xlabel('Number of flipped segments', fontdict={'size': 16})\n",
    "ax1.legend(['TSA-S', 'TSA-NS', 'Baseline'], prop={'size':13})\n",
    "\n",
    "ax2 = fig.add_subplot(gs[0,1])\n",
    "ax2.plot(perf_two_ytrue_s, color=(194/256, 154/256, 177/256))\n",
    "ax2.plot(perf_two_ytrue_ns, color=(219/256, 154/256, 143/256))\n",
    "ax2.plot(perf_two_ytrue_baseline, color=(115/256, 75/256, 103/256), linestyle='dotted')\n",
    "ax2.set_ylim(0,1)\n",
    "ax2.set_ylabel('Balanced accuracy', fontdict={'size': 16})\n",
    "ax2.set_xlabel('Number of flipped segments', fontdict={'size': 16})\n",
    "ax2.legend(['TSA-S', 'TSA-NS', 'Baseline'], prop={'size':13})\n",
    "\n",
    "ax3 = fig.add_subplot(gs[0,2])\n",
    "ax3.plot(perf_one_ytrue_s, color=(194/256, 154/256, 177/256))\n",
    "ax3.plot(perf_three_ytrue_ns, color=(219/256, 154/256, 143/256))\n",
    "ax3.plot(perf_three_ytrue_baseline, color=(115/256, 75/256, 103/256), linestyle='dotted')\n",
    "ax3.set_ylim(0,1)\n",
    "ax3.set_ylabel('Balanced accuracy', fontdict={'size': 16})\n",
    "ax3.set_xlabel('Number of flipped segments', fontdict={'size': 16})\n",
    "ax3.legend(['TSA-S', 'TSA-NS', 'Baseline'], prop={'size':13})\n",
    "\n"
   ],
   "execution_count": null,
   "outputs": []
  },
  {
   "cell_type": "markdown",
   "metadata": {
    "id": "V9pZpiqzWMgd"
   },
   "source": [
    "# Sensitivity"
   ]
  },
  {
   "cell_type": "markdown",
   "metadata": {
    "id": "hWnNRaqBXO8M"
   },
   "source": [
    "### Read results"
   ]
  },
  {
   "cell_type": "code",
   "metadata": {
    "id": "BRyBIwnYWN1W"
   },
   "source": [
    "max_sensitivity_s_oneA = load_obj('/sensitivity/tsa-s/max_sensitivity_oneA.pkl')\n",
    "max_sensitivity_s_oneB = load_obj('/sensitivity/tsa-s/max_sensitivity_oneB.pkl')\n",
    "max_sensitivity_s_one = max(max_sensitivity_s_oneA, max_sensitivity_s_oneB)\n",
    "\n",
    "max_sensitivity_s_twoA = load_obj('/sensitivity/tsa-s/max_sensitivity_twoA.pkl')\n",
    "max_sensitivity_s_twoB = load_obj('/sensitivity/tsa-s/max_sensitivity_twoB.pkl')\n",
    "max_sensitivity_s_two = max(max_sensitivity_s_twoA, max_sensitivity_s_twoB)\n",
    "\n",
    "max_sensitivity_s_threeA = load_obj('/sensitivity/tsa-s/max_sensitivity_threeA.pkl')\n",
    "max_sensitivity_s_threeB = load_obj('/sensitivity/tsa-s/max_sensitivity_threeB.pkl')\n",
    "max_sensitivity_s_three = max(max_sensitivity_s_threeA, max_sensitivity_s_threeB)\n",
    "\n",
    "max_sensitivity_ns_oneA = load_obj('/sensitivity/tsa-ns/max_sensitivity_oneA.pkl')\n",
    "max_sensitivity_ns_oneB = load_obj('/sensitivity/tsa-ns/max_sensitivity_oneB.pkl')\n",
    "max_sensitivity_ns_one = max(max_sensitivity_ns_oneA, max_sensitivity_ns_oneB)\n",
    "\n",
    "max_sensitivity_ns_twoA = load_obj('/sensitivity/tsa-ns/max_sensitivity_twoA.pkl')\n",
    "max_sensitivity_ns_twoB = load_obj('/sensitivity/tsa-ns/max_sensitivity_twoB.pkl')\n",
    "max_sensitivity_ns_two = max(max_sensitivity_ns_twoA, max_sensitivity_ns_twoB)\n",
    "\n",
    "max_sensitivity_ns_threeA = load_obj('/sensitivity/tsa-ns/max_sensitivity_threeA.pkl')\n",
    "max_sensitivity_ns_threeB = load_obj('/sensitivity/tsa-ns/max_sensitivity_threeB.pkl')\n",
    "max_sensitivity_ns_three = max(max_sensitivity_ns_threeA, max_sensitivity_ns_threeB)\n",
    "\n",
    "baseline_sensitivity_A = load_obj('/sensitivity/max_sensitivity_baseline_A.pkl')\n",
    "baseline_sensitivity_B = load_obj('/sensitivity/max_sensitivity_baseline_B.pkl')\n",
    "max_sensitivity_baseline = max(baseline_sensitivity_A, baseline_sensitivity_B)"
   ],
   "execution_count": null,
   "outputs": []
  },
  {
   "cell_type": "markdown",
   "metadata": {
    "id": "MQ04Wtw3XRVO"
   },
   "source": [
    "### Analyze"
   ]
  },
  {
   "cell_type": "code",
   "metadata": {
    "id": "gPqA7TGeXSrd"
   },
   "source": [
    "sensitivities_s = [max_sensitivity_s_one, max_sensitivity_s_two, max_sensitivity_s_three]\n",
    "sensitivities_ns = [max_sensitivity_ns_one, max_sensitivity_ns_two, max_sensitivity_ns_three]\n",
    "df_sensitivity = pd.DataFrame([sensitivities_s, sensitivities_ns]).transpose()"
   ],
   "execution_count": null,
   "outputs": []
  },
  {
   "cell_type": "code",
   "metadata": {
    "id": "4tilx4p6XzLT",
    "colab": {
     "base_uri": "https://localhost:8080/",
     "height": 143
    },
    "outputId": "29269851-414b-460e-f31a-f8285060ae9c"
   },
   "source": [
    "df_sensitivity"
   ],
   "execution_count": null,
   "outputs": []
  },
  {
   "cell_type": "code",
   "metadata": {
    "colab": {
     "base_uri": "https://localhost:8080/"
    },
    "id": "fCMMDwaCPPqh",
    "outputId": "630dcd80-a2e3-446b-e0cc-8a134bc33f4a"
   },
   "source": [
    "max_sensitivity_baseline"
   ],
   "execution_count": null,
   "outputs": []
  },
  {
   "cell_type": "code",
   "metadata": {
    "id": "ZBr4ke51P3Yx"
   },
   "source": [
    ""
   ],
   "execution_count": null,
   "outputs": []
  }
 ]
}